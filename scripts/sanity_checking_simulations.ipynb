{
 "cells": [
  {
   "cell_type": "code",
   "execution_count": 1,
   "metadata": {
    "collapsed": true
   },
   "outputs": [],
   "source": [
    "from fdr_hacking.data_generation import *\n",
    "from fdr_hacking.util import *"
   ]
  },
  {
   "cell_type": "markdown",
   "source": [
    "## simulation of data with autocorrelation\n",
    "\n",
    "Notice that the correlation between variables in simulated data shows that the variables are correlated to the desired extent with previous variable"
   ],
   "metadata": {
    "collapsed": false,
    "pycharm": {
     "name": "#%% md\n"
    }
   }
  },
  {
   "cell_type": "code",
   "execution_count": 2,
   "outputs": [
    {
     "name": "stdout",
     "output_type": "stream",
     "text": [
      "[[ 1.         -0.33175279  0.0318098   0.00901973  0.01872047]\n",
      " [-0.33175279  1.         -0.34251556 -0.299832   -0.23811895]\n",
      " [ 0.0318098  -0.34251556  1.          0.8479187   0.6121608 ]\n",
      " [ 0.00901973 -0.299832    0.8479187   1.          0.69641791]\n",
      " [ 0.01872047 -0.23811895  0.6121608   0.69641791  1.        ]]\n"
     ]
    }
   ],
   "source": [
    "# np.random.seed(1234)\n",
    "realworld_data = load_eg_realworld_data() # loading some example realworld data to have some sort of reference for parameters for beta distribution\n",
    "n_observations = 200 # number of examples\n",
    "n_sites = 5 # number of methylation sites\n",
    "dependencies = True # whether I want dependencies or not; if false, no correlations are introduced\n",
    "corr_coef_distribution = [(-0.40, -0.20), (0.70, 0.85)] # the introduced correlations will be equally represented from the specified ranges\n",
    "sim_data = simulate_methyl_data(realworld_data, n_sites, n_observations, dependencies, corr_coef_distribution)\n",
    "corr_sim_data = determine_correlation_matrix(sim_data)\n",
    "print(corr_sim_data) # note that there is equal representation of the supplied correlation coefficient ranges and that the\n",
    "# current variable is correlated with previous variable by a correlation that is specified through corr_coef_distribution"
   ],
   "metadata": {
    "collapsed": false,
    "pycharm": {
     "name": "#%%\n"
    }
   }
  },
  {
   "cell_type": "code",
   "execution_count": 3,
   "outputs": [
    {
     "name": "stdout",
     "output_type": "stream",
     "text": [
      "[(-0.38, -0.12), (-0.12, -0.09), (-0.09, -0.07), (-0.07, -0.06), (-0.06, -0.05), (-0.05, -0.04), (-0.04, -0.03), (-0.03, -0.02), (-0.02, -0.01), (-0.01, 0.0), (0.0, 0.0), (0.0, 0.0), (0.0, 0.0), (0.0, 0.0), (0.0, 0.0), (0.0, 0.0), (0.0, 0.0), (0.0, 0.0), (0.0, 0.0), (0.0, 0.0), (0.0, 0.0), (0.0, 0.0), (0.0, 0.0), (0.0, 0.0), (0.0, 0.0), (0.0, 0.0), (0.0, 0.0), (0.0, 0.0), (0.0, 0.0), (0.0, 0.0), (0.0, 0.01), (0.01, 0.02), (0.02, 0.03), (0.03, 0.04), (0.04, 0.05), (0.05, 0.06), (0.06, 0.07), (0.07, 0.09), (0.09, 0.12), (0.12, 0.96)]\n"
     ]
    }
   ],
   "source": [
    "n_sites = 10000 # number of methylation sites\n",
    "dependencies = True # whether I want dependencies or not; if false, no correlations are introduced\n",
    "# corr_coef_distribution = [(-0.79, -0.09), (-0.79, -0.09), (-0.08, 0.0), (0.0, 0.0), (0.0, 0.05),\n",
    "#                           (0.06, 0.18), (0.18, 0.32), (0.18, 0.32), (0.32, 0.95), (0.32, 0.95)]\n",
    "# corr_coef_distribution = [(-0.79, -0.09), (-0.08, 0.32), (0.32, 0.95)]\n",
    "corr_coef_distribution = [(0.6, 0.95)]\n",
    "sim_data = simulate_methyl_data(realworld_data, n_sites, n_observations, dependencies, corr_coef_distribution)\n",
    "intervals = estimate_realworld_corrcoef_distribution(sim_data)\n",
    "print(intervals)\n"
   ],
   "metadata": {
    "collapsed": false,
    "pycharm": {
     "name": "#%%\n"
    }
   }
  },
  {
   "cell_type": "code",
   "execution_count": null,
   "outputs": [],
   "source": [
    "n_sites = 10000 # number of methylation sites\n",
    "dependencies = True # whether I want dependencies or not; if false, no correlations are introduced\n",
    "# corr_coef_distribution = [(-0.79, -0.09), (-0.79, -0.09), (-0.08, 0.0), (0.0, 0.0), (0.0, 0.05),\n",
    "#                           (0.06, 0.18), (0.18, 0.32), (0.18, 0.32), (0.32, 0.95), (0.32, 0.95)]\n",
    "# corr_coef_distribution = [(-0.79, -0.09), (-0.08, 0.32), (0.32, 0.95)]\n",
    "corr_coef_distribution = [(0.6, 0.95)]\n",
    "sim_data = simulate_methyl_data(realworld_data, n_sites, n_observations, dependencies, corr_coef_distribution)\n",
    "intervals = estimate_realworld_corrcoef_distribution(sim_data)\n",
    "print(intervals)\n"
   ],
   "metadata": {
    "collapsed": false,
    "pycharm": {
     "name": "#%%\n"
    }
   }
  },
  {
   "cell_type": "code",
   "execution_count": 4,
   "outputs": [
    {
     "name": "stdout",
     "output_type": "stream",
     "text": [
      "[(-0.38, -0.12), (-0.12, -0.09), (-0.09, -0.07), (-0.07, -0.06), (-0.06, -0.05), (-0.05, -0.04), (-0.04, -0.03), (-0.03, -0.02), (-0.02, -0.01), (-0.01, 0.0), (0.0, 0.0), (0.0, 0.0), (0.0, 0.0), (0.0, 0.0), (0.0, 0.0), (0.0, 0.0), (0.0, 0.0), (0.0, 0.0), (0.0, 0.0), (0.0, 0.0), (0.0, 0.0), (0.0, 0.0), (0.0, 0.0), (0.0, 0.0), (0.0, 0.0), (0.0, 0.0), (0.0, 0.0), (0.0, 0.0), (0.0, 0.0), (0.0, 0.0), (0.0, 0.01), (0.01, 0.02), (0.02, 0.03), (0.03, 0.04), (0.04, 0.05), (0.05, 0.06), (0.06, 0.07), (0.07, 0.09), (0.09, 0.12), (0.12, 0.96)]\n"
     ]
    }
   ],
   "source": [
    "real_data = sample_realworld_methyl_val(n_sites=n_sites, realworld_data=realworld_data)\n",
    "real_intervals = estimate_realworld_corrcoef_distribution(sim_data)\n",
    "print(real_intervals)\n"
   ],
   "metadata": {
    "collapsed": false,
    "pycharm": {
     "name": "#%%\n"
    }
   }
  },
  {
   "cell_type": "code",
   "execution_count": null,
   "outputs": [],
   "source": [],
   "metadata": {
    "collapsed": false,
    "pycharm": {
     "name": "#%%\n"
    }
   }
  }
 ],
 "metadata": {
  "kernelspec": {
   "display_name": "Python 3",
   "language": "python",
   "name": "python3"
  },
  "language_info": {
   "codemirror_mode": {
    "name": "ipython",
    "version": 2
   },
   "file_extension": ".py",
   "mimetype": "text/x-python",
   "name": "python",
   "nbconvert_exporter": "python",
   "pygments_lexer": "ipython2",
   "version": "2.7.6"
  }
 },
 "nbformat": 4,
 "nbformat_minor": 0
}