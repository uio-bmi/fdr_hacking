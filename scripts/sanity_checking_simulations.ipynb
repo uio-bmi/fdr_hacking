{
 "cells": [
  {
   "cell_type": "code",
   "execution_count": 1,
   "metadata": {
    "collapsed": true
   },
   "outputs": [],
   "source": [
    "import numpy as np\n",
    "from fdr_hacking.data_generation import *\n",
    "from fdr_hacking.statistical_testing import *"
   ]
  },
  {
   "cell_type": "code",
   "execution_count": 2,
   "outputs": [],
   "source": [
    "real_data_df = load_eg_realworld_data()"
   ],
   "metadata": {
    "collapsed": false,
    "pycharm": {
     "name": "#%%\n"
    }
   }
  },
  {
   "cell_type": "code",
   "execution_count": 2,
   "outputs": [
    {
     "data": {
      "text/plain": "array([[1.        , 0.92805354],\n       [0.92805354, 1.        ]])"
     },
     "execution_count": 2,
     "metadata": {},
     "output_type": "execute_result"
    }
   ],
   "source": [
    "# When the correlations from real-world data are exactly used in simulations (using copulas), the correlations in the generated synthetic data\n",
    "\n",
    "real_beta_values = sample_realworld_methyl_val(n_sites=1000, realworld_data=real_data_df)\n",
    "real_corr = determine_correlation_matrix(real_beta_values)\n",
    "alpha_params, beta_params = estimate_beta_dist_parameters(methyl_beta_values=real_beta_values)\n",
    "synth_beta_values = synthesize_methyl_val_with_copula(correlation_matrix=real_corr, n_observations=100,\n",
    "                                                      beta_dist_alpha_params=alpha_params, beta_dist_beta_params=beta_params)\n",
    "synth_corr = determine_correlation_matrix(synth_beta_values)\n",
    "real_synth_corr = np.corrcoef(real_corr.flatten(), synth_corr.flatten())\n",
    "real_synth_corr"
   ],
   "metadata": {
    "collapsed": false,
    "pycharm": {
     "name": "#%%\n"
    }
   }
  },
  {
   "cell_type": "code",
   "execution_count": 3,
   "outputs": [
    {
     "data": {
      "text/plain": "array([[1.        , 0.03398735],\n       [0.03398735, 1.        ]])"
     },
     "execution_count": 3,
     "metadata": {},
     "output_type": "execute_result"
    }
   ],
   "source": [
    "synth_beta_uten_dependence = synthesize_methyl_val_without_dependence(n_sites=1000, n_observations=100,\n",
    "                                                                      beta_dist_alpha_params=alpha_params,\n",
    "                                                                      beta_dist_beta_params=beta_params)\n",
    "synth_uten_corr = determine_correlation_matrix(synth_beta_uten_dependence)\n",
    "np.corrcoef(real_corr.flatten(), synth_uten_corr.flatten())\n"
   ],
   "metadata": {
    "collapsed": false,
    "pycharm": {
     "name": "#%%\n"
    }
   }
  }
 ],
 "metadata": {
  "kernelspec": {
   "display_name": "Python 3",
   "language": "python",
   "name": "python3"
  },
  "language_info": {
   "codemirror_mode": {
    "name": "ipython",
    "version": 2
   },
   "file_extension": ".py",
   "mimetype": "text/x-python",
   "name": "python",
   "nbconvert_exporter": "python",
   "pygments_lexer": "ipython2",
   "version": "2.7.6"
  }
 },
 "nbformat": 4,
 "nbformat_minor": 0
}